{
  "nbformat": 4,
  "nbformat_minor": 0,
  "metadata": {
    "colab": {
      "provenance": []
    },
    "kernelspec": {
      "name": "python3",
      "display_name": "Python 3"
    },
    "language_info": {
      "name": "python"
    }
  },
  "cells": [
    {
      "cell_type": "markdown",
      "source": [
        "**Import Libraries**"
      ],
      "metadata": {
        "id": "RBeS9dpAl38x"
      }
    },
    {
      "cell_type": "code",
      "source": [
        "import numpy as np\n",
        "import matplotlib.pyplot as plt\n",
        "from tensorflow.keras.datasets import mnist\n",
        "from tensorflow.keras.utils import to_categorical\n",
        "from tensorflow.keras import Sequential\n",
        "from tensorflow.keras.layers import Conv2D, MaxPooling2D, Flatten, Dense, Dropout\n"
      ],
      "metadata": {
        "id": "xegI2mP4X6vH"
      },
      "execution_count": 1,
      "outputs": []
    },
    {
      "cell_type": "markdown",
      "source": [
        "**Load and Preprocess the MNIST Dataset**"
      ],
      "metadata": {
        "id": "Qvn83GWcmD1M"
      }
    },
    {
      "cell_type": "code",
      "source": [
        "# Load the MNIST dataset\n",
        "(train_images, train_labels), (test_images, test_labels) = mnist.load_data()\n",
        "\n",
        "# Preprocess the images\n",
        "train_images = train_images.reshape(train_images.shape[0], 28, 28, 1).astype('float32') / 255\n",
        "test_images = test_images.reshape(test_images.shape[0], 28, 28, 1).astype('float32') / 255\n",
        "\n",
        "# One-hot encode the labels\n",
        "num_classes = 10  # Digits 0-9\n",
        "train_labels = to_categorical(train_labels, num_classes)\n",
        "test_labels = to_categorical(test_labels, num_classes)"
      ],
      "metadata": {
        "id": "HmpCmLNOmJNq",
        "colab": {
          "base_uri": "https://localhost:8080/"
        },
        "outputId": "cc634327-de44-4f8f-e52e-bfa6dab835fd"
      },
      "execution_count": 2,
      "outputs": [
        {
          "output_type": "stream",
          "name": "stdout",
          "text": [
            "Downloading data from https://storage.googleapis.com/tensorflow/tf-keras-datasets/mnist.npz\n",
            "\u001b[1m11490434/11490434\u001b[0m \u001b[32m━━━━━━━━━━━━━━━━━━━━\u001b[0m\u001b[37m\u001b[0m \u001b[1m0s\u001b[0m 0us/step\n"
          ]
        }
      ]
    },
    {
      "cell_type": "markdown",
      "source": [
        "**Define the model**"
      ],
      "metadata": {
        "id": "Gpewx6ywmNwX"
      }
    },
    {
      "cell_type": "code",
      "source": [
        "# Define the CNN model\n",
        "def create_model():\n",
        "    model = Sequential([\n",
        "        Conv2D(32, (3, 3), activation='relu', input_shape=(28, 28, 1)),\n",
        "        MaxPooling2D(pool_size=(2, 2)),\n",
        "        Conv2D(64, (3, 3), activation='relu'),\n",
        "        MaxPooling2D(pool_size=(2, 2)),\n",
        "        Flatten(),\n",
        "        Dense(128, activation='relu'),\n",
        "        Dropout(0.5),\n",
        "        Dense(num_classes, activation='softmax')  # Output layer\n",
        "    ])\n",
        "    model.compile(optimizer='adam', loss='categorical_crossentropy', metrics=['accuracy'])\n",
        "    return model\n",
        "\n",
        "# Create the model\n",
        "model = create_model()\n"
      ],
      "metadata": {
        "colab": {
          "base_uri": "https://localhost:8080/"
        },
        "id": "--sReZwTmKZS",
        "outputId": "26c78a6a-6c57-497f-b448-65b613a6c7a9"
      },
      "execution_count": 3,
      "outputs": [
        {
          "output_type": "stream",
          "name": "stderr",
          "text": [
            "/usr/local/lib/python3.10/dist-packages/keras/src/layers/convolutional/base_conv.py:107: UserWarning: Do not pass an `input_shape`/`input_dim` argument to a layer. When using Sequential models, prefer using an `Input(shape)` object as the first layer in the model instead.\n",
            "  super().__init__(activity_regularizer=activity_regularizer, **kwargs)\n"
          ]
        }
      ]
    },
    {
      "cell_type": "code",
      "source": [
        "# Train the model\n",
        "model.fit(train_images, train_labels, epochs=10, batch_size=32, validation_split=0.2)\n"
      ],
      "metadata": {
        "colab": {
          "base_uri": "https://localhost:8080/"
        },
        "id": "tMChvYVemVKG",
        "outputId": "3cf57b3a-bda5-4668-fde5-88b85a305bfc"
      },
      "execution_count": 4,
      "outputs": [
        {
          "output_type": "stream",
          "name": "stdout",
          "text": [
            "Epoch 1/10\n",
            "\u001b[1m1500/1500\u001b[0m \u001b[32m━━━━━━━━━━━━━━━━━━━━\u001b[0m\u001b[37m\u001b[0m \u001b[1m62s\u001b[0m 40ms/step - accuracy: 0.8420 - loss: 0.4978 - val_accuracy: 0.9827 - val_loss: 0.0567\n",
            "Epoch 2/10\n",
            "\u001b[1m1500/1500\u001b[0m \u001b[32m━━━━━━━━━━━━━━━━━━━━\u001b[0m\u001b[37m\u001b[0m \u001b[1m50s\u001b[0m 33ms/step - accuracy: 0.9712 - loss: 0.0980 - val_accuracy: 0.9865 - val_loss: 0.0454\n",
            "Epoch 3/10\n",
            "\u001b[1m1500/1500\u001b[0m \u001b[32m━━━━━━━━━━━━━━━━━━━━\u001b[0m\u001b[37m\u001b[0m \u001b[1m81s\u001b[0m 33ms/step - accuracy: 0.9789 - loss: 0.0675 - val_accuracy: 0.9883 - val_loss: 0.0424\n",
            "Epoch 4/10\n",
            "\u001b[1m1500/1500\u001b[0m \u001b[32m━━━━━━━━━━━━━━━━━━━━\u001b[0m\u001b[37m\u001b[0m \u001b[1m47s\u001b[0m 31ms/step - accuracy: 0.9828 - loss: 0.0544 - val_accuracy: 0.9893 - val_loss: 0.0376\n",
            "Epoch 5/10\n",
            "\u001b[1m1500/1500\u001b[0m \u001b[32m━━━━━━━━━━━━━━━━━━━━\u001b[0m\u001b[37m\u001b[0m \u001b[1m82s\u001b[0m 31ms/step - accuracy: 0.9870 - loss: 0.0431 - val_accuracy: 0.9905 - val_loss: 0.0372\n",
            "Epoch 6/10\n",
            "\u001b[1m1500/1500\u001b[0m \u001b[32m━━━━━━━━━━━━━━━━━━━━\u001b[0m\u001b[37m\u001b[0m \u001b[1m81s\u001b[0m 31ms/step - accuracy: 0.9891 - loss: 0.0377 - val_accuracy: 0.9919 - val_loss: 0.0327\n",
            "Epoch 7/10\n",
            "\u001b[1m1500/1500\u001b[0m \u001b[32m━━━━━━━━━━━━━━━━━━━━\u001b[0m\u001b[37m\u001b[0m \u001b[1m45s\u001b[0m 30ms/step - accuracy: 0.9901 - loss: 0.0315 - val_accuracy: 0.9907 - val_loss: 0.0398\n",
            "Epoch 8/10\n",
            "\u001b[1m1500/1500\u001b[0m \u001b[32m━━━━━━━━━━━━━━━━━━━━\u001b[0m\u001b[37m\u001b[0m \u001b[1m50s\u001b[0m 33ms/step - accuracy: 0.9906 - loss: 0.0305 - val_accuracy: 0.9906 - val_loss: 0.0330\n",
            "Epoch 9/10\n",
            "\u001b[1m1500/1500\u001b[0m \u001b[32m━━━━━━━━━━━━━━━━━━━━\u001b[0m\u001b[37m\u001b[0m \u001b[1m46s\u001b[0m 31ms/step - accuracy: 0.9918 - loss: 0.0246 - val_accuracy: 0.9905 - val_loss: 0.0357\n",
            "Epoch 10/10\n",
            "\u001b[1m1500/1500\u001b[0m \u001b[32m━━━━━━━━━━━━━━━━━━━━\u001b[0m\u001b[37m\u001b[0m \u001b[1m47s\u001b[0m 31ms/step - accuracy: 0.9926 - loss: 0.0230 - val_accuracy: 0.9911 - val_loss: 0.0353\n"
          ]
        },
        {
          "output_type": "execute_result",
          "data": {
            "text/plain": [
              "<keras.src.callbacks.history.History at 0x7c04364339a0>"
            ]
          },
          "metadata": {},
          "execution_count": 4
        }
      ]
    },
    {
      "cell_type": "code",
      "source": [
        "# Evaluate the model on test data\n",
        "test_loss, test_acc = model.evaluate(test_images, test_labels)\n",
        "print(f'Test accuracy: {test_acc}')"
      ],
      "metadata": {
        "colab": {
          "base_uri": "https://localhost:8080/"
        },
        "id": "evDt9xBgmXD8",
        "outputId": "cf365535-920b-4206-a91f-9b014c65dc85"
      },
      "execution_count": 5,
      "outputs": [
        {
          "output_type": "stream",
          "name": "stdout",
          "text": [
            "\u001b[1m313/313\u001b[0m \u001b[32m━━━━━━━━━━━━━━━━━━━━\u001b[0m\u001b[37m\u001b[0m \u001b[1m3s\u001b[0m 9ms/step - accuracy: 0.9903 - loss: 0.0296\n",
            "Test accuracy: 0.9923999905586243\n"
          ]
        }
      ]
    },
    {
      "cell_type": "markdown",
      "source": [
        "**Visualize prediction on test images**"
      ],
      "metadata": {
        "id": "BBExdDaxmgb8"
      }
    },
    {
      "cell_type": "code",
      "source": [
        "# Function to visualize predictions\n",
        "def visualize_predictions(model, test_images, test_labels, num_images=10):\n",
        "    predictions = model.predict(test_images)\n",
        "    predicted_labels = np.argmax(predictions, axis=1)\n",
        "    true_labels = np.argmax(test_labels, axis=1)\n",
        "\n",
        "    plt.figure(figsize=(15, 5))\n",
        "    for i in range(num_images):\n",
        "        plt.subplot(2, 5, i + 1)\n",
        "        plt.imshow(test_images[i].reshape(28, 28), cmap='gray')\n",
        "        plt.title(f'Pred: {predicted_labels[i]}\\nTrue: {true_labels[i]}')\n",
        "        plt.axis('off')\n",
        "    plt.tight_layout()\n",
        "    plt.show()\n",
        "\n",
        "# Call the function to visualize predictions\n",
        "visualize_predictions(model, test_images, test_labels)\n"
      ],
      "metadata": {
        "colab": {
          "base_uri": "https://localhost:8080/",
          "height": 269
        },
        "id": "LSvE8DKtmnBE",
        "outputId": "d563a32c-7d3a-4c22-d814-9b49920757ae"
      },
      "execution_count": 6,
      "outputs": [
        {
          "output_type": "stream",
          "name": "stdout",
          "text": [
            "\u001b[1m313/313\u001b[0m \u001b[32m━━━━━━━━━━━━━━━━━━━━\u001b[0m\u001b[37m\u001b[0m \u001b[1m3s\u001b[0m 8ms/step\n"
          ]
        },
        {
          "output_type": "display_data",
          "data": {
            "text/plain": [
              "<Figure size 1500x500 with 10 Axes>"
            ],
            "image/png": "[encoded data removed]"
          },
          "metadata": {}
        }
      ]
    },
    {
      "cell_type": "code",
      "source": [
        "from tensorflow.keras.models import load_model\n",
        "import cv2\n",
        "\n",
        "# Load the saved model\n",
        "model = load_model('mnist_ocr_model.h5')\n",
        "\n",
        "# Function to preprocess a new image and perform OCR\n",
        "def ocr_image(image_path):\n",
        "    img = cv2.imread(image_path, cv2.IMREAD_GRAYSCALE)\n",
        "    img = cv2.resize(img, (28, 28))\n",
        "    img = img.reshape(1, 28, 28, 1).astype('float32') / 255\n",
        "    predictions = model.predict(img)\n",
        "    predicted_label = np.argmax(predictions, axis=1)[0]\n",
        "    return predicted_label\n",
        "\n",
        "# Example usage\n",
        "new_image_path = 'path_to_your_new_image.png'  # Replace with your new image path\n",
        "predicted_digit = ocr_image(new_image_path)\n",
        "print(f'Predicted Digit: {predicted_digit}')\n"
      ],
      "metadata": {
        "id": "LJ3f5mL1rQEW"
      },
      "execution_count": 7,
      "outputs": []
    }
  ]
}